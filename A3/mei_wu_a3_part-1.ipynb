{
 "cells": [
  {
   "cell_type": "code",
   "execution_count": 45,
   "metadata": {},
   "outputs": [],
   "source": [
    "from pyspark.sql import SparkSession\n",
    "import re\n",
    "\n",
    "# (8 cores, 16gb per machine) x 5 = 40 cores\n",
    "\n",
    "# New API\n",
    "spark_session = SparkSession\\\n",
    "        .builder\\\n",
    "        .master(\"spark://192.168.2.87:7077\") \\\n",
    "        .appName(\"mei_wu_part-1\")\\\n",
    "        .config(\"spark.dynamicAllocation.enabled\", True)\\\n",
    "        .config(\"spark.shuffle.service.enabled\", True)\\\n",
    "        .config(\"spark.dynamicAllocation.executorIdleTimeout\",\"30s\")\\\n",
    "        .config(\"spark.executor.cores\",4)\\\n",
    "        .getOrCreate()\n",
    "#        .config('spark.executor.cores', 2)\\\n",
    "\n",
    "\n",
    "# Old API (RDD)\n",
    "spark_context = spark_session.sparkContext\n",
    "\n",
    "rdd_en = spark_context.newAPIHadoopFile(\n",
    "    'hdfs://192.168.2.87:9000/europarl/europarl-v7.sv-en.en',\n",
    "    'org.apache.hadoop.mapreduce.lib.input.TextInputFormat',\n",
    "    'org.apache.hadoop.io.LongWritable',\n",
    "    'org.apache.hadoop.io.Text'\n",
    ")\\\n",
    ".cache() # Keep this RDD in memory!\n",
    "\n",
    "rdd_sv = spark_context.newAPIHadoopFile(\n",
    "    'hdfs://192.168.2.87:9000/europarl/europarl-v7.sv-en.sv',\n",
    "    'org.apache.hadoop.mapreduce.lib.input.TextInputFormat',\n",
    "    'org.apache.hadoop.io.LongWritable',\n",
    "    'org.apache.hadoop.io.Text'\n",
    ")\\\n",
    ".cache() # Keep this RDD in memory!"
   ]
  },
  {
   "cell_type": "code",
   "execution_count": 46,
   "metadata": {},
   "outputs": [
    {
     "data": {
      "text/plain": [
       "1862234"
      ]
     },
     "execution_count": 46,
     "metadata": {},
     "output_type": "execute_result"
    }
   ],
   "source": [
    "en_count = rdd_en.count() # A.1.1 Counts the lines in English\n",
    "en_count"
   ]
  },
  {
   "cell_type": "code",
   "execution_count": 47,
   "metadata": {},
   "outputs": [
    {
     "data": {
      "text/plain": [
       "1862234"
      ]
     },
     "execution_count": 47,
     "metadata": {},
     "output_type": "execute_result"
    }
   ],
   "source": [
    "sv_count = rdd_sv.count() # A.1.2 Counts the lines in Swedish\n",
    "sv_count"
   ]
  },
  {
   "cell_type": "code",
   "execution_count": 48,
   "metadata": {},
   "outputs": [
    {
     "data": {
      "text/plain": [
       "True"
      ]
     },
     "execution_count": 48,
     "metadata": {},
     "output_type": "execute_result"
    }
   ],
   "source": [
    "en_count == sv_count # A.1.3 Verify the lines are same in both languages"
   ]
  },
  {
   "cell_type": "code",
   "execution_count": 49,
   "metadata": {},
   "outputs": [
    {
     "data": {
      "text/plain": [
       "2"
      ]
     },
     "execution_count": 49,
     "metadata": {},
     "output_type": "execute_result"
    }
   ],
   "source": [
    "rdd_en.getNumPartitions() # A.1.4 Count number of partitions in English"
   ]
  },
  {
   "cell_type": "code",
   "execution_count": 50,
   "metadata": {},
   "outputs": [
    {
     "data": {
      "text/plain": [
       "3"
      ]
     },
     "execution_count": 50,
     "metadata": {},
     "output_type": "execute_result"
    }
   ],
   "source": [
    "rdd_sv.getNumPartitions() # A.1.4 Count number of partitions in Swedish"
   ]
  },
  {
   "cell_type": "code",
   "execution_count": 72,
   "metadata": {},
   "outputs": [
    {
     "data": {
      "text/plain": [
       "[(0, ['resumption', 'of', 'the', 'session']),\n",
       " (26,\n",
       "  ['i',\n",
       "   'declare',\n",
       "   'resumed',\n",
       "   'the',\n",
       "   'session',\n",
       "   'of',\n",
       "   'the',\n",
       "   'european',\n",
       "   'parliament',\n",
       "   'adjourned',\n",
       "   'on',\n",
       "   'friday',\n",
       "   '17',\n",
       "   'december',\n",
       "   '1999,',\n",
       "   'and',\n",
       "   'i',\n",
       "   'would',\n",
       "   'like',\n",
       "   'once',\n",
       "   'again',\n",
       "   'to',\n",
       "   'wish',\n",
       "   'you',\n",
       "   'a',\n",
       "   'happy',\n",
       "   'new',\n",
       "   'year',\n",
       "   'in',\n",
       "   'the',\n",
       "   'hope',\n",
       "   'that',\n",
       "   'you',\n",
       "   'enjoyed',\n",
       "   'a',\n",
       "   'pleasant',\n",
       "   'festive',\n",
       "   'period.']),\n",
       " (234,\n",
       "  ['although,',\n",
       "   'as',\n",
       "   'you',\n",
       "   'will',\n",
       "   'have',\n",
       "   'seen,',\n",
       "   'the',\n",
       "   'dreaded',\n",
       "   \"'millennium\",\n",
       "   \"bug'\",\n",
       "   'failed',\n",
       "   'to',\n",
       "   'materialise,',\n",
       "   'still',\n",
       "   'the',\n",
       "   'people',\n",
       "   'in',\n",
       "   'a',\n",
       "   'number',\n",
       "   'of',\n",
       "   'countries',\n",
       "   'suffered',\n",
       "   'a',\n",
       "   'series',\n",
       "   'of',\n",
       "   'natural',\n",
       "   'disasters',\n",
       "   'that',\n",
       "   'truly',\n",
       "   'were',\n",
       "   'dreadful.']),\n",
       " (426,\n",
       "  ['you',\n",
       "   'have',\n",
       "   'requested',\n",
       "   'a',\n",
       "   'debate',\n",
       "   'on',\n",
       "   'this',\n",
       "   'subject',\n",
       "   'in',\n",
       "   'the',\n",
       "   'course',\n",
       "   'of',\n",
       "   'the',\n",
       "   'next',\n",
       "   'few',\n",
       "   'days,',\n",
       "   'during',\n",
       "   'this',\n",
       "   'part-session.']),\n",
       " (532,\n",
       "  ['in',\n",
       "   'the',\n",
       "   'meantime,',\n",
       "   'i',\n",
       "   'should',\n",
       "   'like',\n",
       "   'to',\n",
       "   'observe',\n",
       "   'a',\n",
       "   \"minute'\",\n",
       "   's',\n",
       "   'silence,',\n",
       "   'as',\n",
       "   'a',\n",
       "   'number',\n",
       "   'of',\n",
       "   'members',\n",
       "   'have',\n",
       "   'requested,',\n",
       "   'on',\n",
       "   'behalf',\n",
       "   'of',\n",
       "   'all',\n",
       "   'the',\n",
       "   'victims',\n",
       "   'concerned,',\n",
       "   'particularly',\n",
       "   'those',\n",
       "   'of',\n",
       "   'the',\n",
       "   'terrible',\n",
       "   'storms,',\n",
       "   'in',\n",
       "   'the',\n",
       "   'various',\n",
       "   'countries',\n",
       "   'of',\n",
       "   'the',\n",
       "   'european',\n",
       "   'union.']),\n",
       " (765,\n",
       "  ['please', 'rise,', 'then,', 'for', 'this', \"minute'\", 's', 'silence.']),\n",
       " (812,\n",
       "  ['(the',\n",
       "   'house',\n",
       "   'rose',\n",
       "   'and',\n",
       "   'observed',\n",
       "   'a',\n",
       "   \"minute'\",\n",
       "   's',\n",
       "   'silence)']),\n",
       " (862, ['madam', 'president,', 'on', 'a', 'point', 'of', 'order.']),\n",
       " (900,\n",
       "  ['you',\n",
       "   'will',\n",
       "   'be',\n",
       "   'aware',\n",
       "   'from',\n",
       "   'the',\n",
       "   'press',\n",
       "   'and',\n",
       "   'television',\n",
       "   'that',\n",
       "   'there',\n",
       "   'have',\n",
       "   'been',\n",
       "   'a',\n",
       "   'number',\n",
       "   'of',\n",
       "   'bomb',\n",
       "   'explosions',\n",
       "   'and',\n",
       "   'killings',\n",
       "   'in',\n",
       "   'sri',\n",
       "   'lanka.']),\n",
       " (1024,\n",
       "  ['one',\n",
       "   'of',\n",
       "   'the',\n",
       "   'people',\n",
       "   'assassinated',\n",
       "   'very',\n",
       "   'recently',\n",
       "   'in',\n",
       "   'sri',\n",
       "   'lanka',\n",
       "   'was',\n",
       "   'mr',\n",
       "   'kumar',\n",
       "   'ponnambalam,',\n",
       "   'who',\n",
       "   'had',\n",
       "   'visited',\n",
       "   'the',\n",
       "   'european',\n",
       "   'parliament',\n",
       "   'just',\n",
       "   'a',\n",
       "   'few',\n",
       "   'months',\n",
       "   'ago.'])]"
      ]
     },
     "execution_count": 72,
     "metadata": {},
     "output_type": "execute_result"
    }
   ],
   "source": [
    "# A.2.1\n",
    "\n",
    "def lowerNsplit(w):\n",
    "    w = w.lower().split(' ')\n",
    "    return w\n",
    "\n",
    "# A.2.2\n",
    "rdd_en.mapValues(lowerNsplit).take()"
   ]
  },
  {
   "cell_type": "code",
   "execution_count": 73,
   "metadata": {},
   "outputs": [
    {
     "data": {
      "text/plain": [
       "[(0, ['återupptagande', 'av', 'sessionen']),\n",
       " (29,\n",
       "  ['jag',\n",
       "   'förklarar',\n",
       "   'europaparlamentets',\n",
       "   'session',\n",
       "   'återupptagen',\n",
       "   'efter',\n",
       "   'avbrottet',\n",
       "   'den',\n",
       "   '17',\n",
       "   'december.',\n",
       "   'jag',\n",
       "   'vill',\n",
       "   'på',\n",
       "   'nytt',\n",
       "   'önska',\n",
       "   'er',\n",
       "   'ett',\n",
       "   'gott',\n",
       "   'nytt',\n",
       "   'år',\n",
       "   'och',\n",
       "   'jag',\n",
       "   'hoppas',\n",
       "   'att',\n",
       "   'ni',\n",
       "   'haft',\n",
       "   'en',\n",
       "   'trevlig',\n",
       "   'semester.']),\n",
       " (212,\n",
       "  ['som',\n",
       "   'ni',\n",
       "   'kunnat',\n",
       "   'konstatera',\n",
       "   'ägde',\n",
       "   '\"den',\n",
       "   'stora',\n",
       "   'år',\n",
       "   '2000-buggen\"',\n",
       "   'aldrig',\n",
       "   'rum.',\n",
       "   'däremot',\n",
       "   'har',\n",
       "   'invånarna',\n",
       "   'i',\n",
       "   'ett',\n",
       "   'antal',\n",
       "   'av',\n",
       "   'våra',\n",
       "   'medlemsländer',\n",
       "   'drabbats',\n",
       "   'av',\n",
       "   'naturkatastrofer',\n",
       "   'som',\n",
       "   'verkligen',\n",
       "   'varit',\n",
       "   'förskräckliga.']),\n",
       " (409,\n",
       "  ['ni',\n",
       "   'har',\n",
       "   'begärt',\n",
       "   'en',\n",
       "   'debatt',\n",
       "   'i',\n",
       "   'ämnet',\n",
       "   'under',\n",
       "   'sammanträdesperiodens',\n",
       "   'kommande',\n",
       "   'dagar.']),\n",
       " (488,\n",
       "  ['till',\n",
       "   'dess',\n",
       "   'vill',\n",
       "   'jag',\n",
       "   'att',\n",
       "   'vi,',\n",
       "   'som',\n",
       "   'ett',\n",
       "   'antal',\n",
       "   'kolleger',\n",
       "   'begärt,',\n",
       "   'håller',\n",
       "   'en',\n",
       "   'tyst',\n",
       "   'minut',\n",
       "   'för',\n",
       "   'offren',\n",
       "   'för',\n",
       "   'bl.a.',\n",
       "   'stormarna',\n",
       "   'i',\n",
       "   'de',\n",
       "   'länder',\n",
       "   'i',\n",
       "   'europeiska',\n",
       "   'unionen',\n",
       "   'som',\n",
       "   'drabbats.']),\n",
       " (650, ['jag', 'ber', 'er', 'resa', 'er', 'för', 'en', 'tyst', 'minut.']),\n",
       " (689, ['(parlamentet', 'höll', 'en', 'tyst', 'minut.)']),\n",
       " (724, ['fru', 'talman!', 'det', 'gäller', 'en', 'ordningsfråga.']),\n",
       " (767,\n",
       "  ['ni',\n",
       "   'känner',\n",
       "   'till',\n",
       "   'från',\n",
       "   'media',\n",
       "   'att',\n",
       "   'det',\n",
       "   'skett',\n",
       "   'en',\n",
       "   'rad',\n",
       "   'bombexplosioner',\n",
       "   'och',\n",
       "   'mord',\n",
       "   'i',\n",
       "   'sri',\n",
       "   'lanka.']),\n",
       " (854,\n",
       "  ['en',\n",
       "   'av',\n",
       "   'de',\n",
       "   'personer',\n",
       "   'som',\n",
       "   'mycket',\n",
       "   'nyligen',\n",
       "   'mördades',\n",
       "   'i',\n",
       "   'sri',\n",
       "   'lanka',\n",
       "   'var',\n",
       "   'kumar',\n",
       "   'ponnambalam,',\n",
       "   'som',\n",
       "   'besökte',\n",
       "   'europaparlamentet',\n",
       "   'för',\n",
       "   'bara',\n",
       "   'några',\n",
       "   'månader',\n",
       "   'sedan.'])]"
      ]
     },
     "execution_count": 73,
     "metadata": {},
     "output_type": "execute_result"
    }
   ],
   "source": [
    "# A.2.2\n",
    "rdd_sv.mapValues(lowerNsplit).take(10)"
   ]
  },
  {
   "cell_type": "code",
   "execution_count": 74,
   "metadata": {},
   "outputs": [
    {
     "data": {
      "text/plain": [
       "True"
      ]
     },
     "execution_count": 74,
     "metadata": {},
     "output_type": "execute_result"
    }
   ],
   "source": [
    "# A.2.3 Verify that the line counts still match after the pre-processing.\n",
    "rdd_en.mapValues(lowerNsplit).count() == rdd_sv.mapValues(lowerNsplit).count()"
   ]
  },
  {
   "cell_type": "code",
   "execution_count": null,
   "metadata": {},
   "outputs": [],
   "source": [
    "# A.3.1 Use Spark to compute the 10 most frequently according words in the English language corpus. Repeat for the other language.\n"
   ]
  },
  {
   "cell_type": "code",
   "execution_count": 35,
   "metadata": {},
   "outputs": [],
   "source": [
    "spark_session.stop()"
   ]
  },
  {
   "cell_type": "code",
   "execution_count": null,
   "metadata": {},
   "outputs": [],
   "source": []
  }
 ],
 "metadata": {
  "kernelspec": {
   "display_name": "Python 3",
   "language": "python",
   "name": "python3"
  },
  "language_info": {
   "codemirror_mode": {
    "name": "ipython",
    "version": 3
   },
   "file_extension": ".py",
   "mimetype": "text/x-python",
   "name": "python",
   "nbconvert_exporter": "python",
   "pygments_lexer": "ipython3",
   "version": "3.6.9"
  }
 },
 "nbformat": 4,
 "nbformat_minor": 2
}
